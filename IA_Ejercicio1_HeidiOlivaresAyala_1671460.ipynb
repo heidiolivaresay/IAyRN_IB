{
  "nbformat": 4,
  "nbformat_minor": 0,
  "metadata": {
    "colab": {
      "name": "IA_Ejercicio1_HeidiOlivaresAyala_1671460",
      "provenance": [],
      "authorship_tag": "ABX9TyNOxZOf3r8rgqovjwLHVniG",
      "include_colab_link": true
    },
    "kernelspec": {
      "name": "python3",
      "display_name": "Python 3"
    },
    "language_info": {
      "name": "python"
    }
  },
  "cells": [
    {
      "cell_type": "markdown",
      "metadata": {
        "id": "view-in-github",
        "colab_type": "text"
      },
      "source": [
        "<a href=\"https://colab.research.google.com/github/heidiolivaresay/IAyRN_IB/blob/main/IA_Ejercicio1_HeidiOlivaresAyala_1671460.ipynb\" target=\"_parent\"><img src=\"https://colab.research.google.com/assets/colab-badge.svg\" alt=\"Open In Colab\"/></a>"
      ]
    },
    {
      "cell_type": "markdown",
      "metadata": {
        "id": "IH9IXQ9qW4Vm"
      },
      "source": [
        "**Activdad 2 - Ejercicios Introducción Python .**\n",
        "\n",
        "Heidi Olivares Ayala\n",
        "\n",
        "**Matricula:**1671460\n",
        "\n",
        "**Hora clase:** N4 "
      ]
    },
    {
      "cell_type": "markdown",
      "metadata": {
        "id": "ScQ8gEukZ2x6"
      },
      "source": [
        "**Ejercicio 1**\n",
        "\n",
        "Crear un programa que pregunte al usuario por su nombre, edad, una frase favorita y autor de la frase favorita. El programa deberá de imprimir un mensaje compuesto por el nombre y edad del usuario diciendo que su frase favorita es la que dió anteriormente y el autor de dicha frase es el nombre previamente dado. Aquí habrá que realizar una concatenación de variables.\n"
      ]
    },
    {
      "cell_type": "code",
      "metadata": {
        "id": "0642jrXfZ6fb",
        "colab": {
          "base_uri": "https://localhost:8080/"
        },
        "outputId": "4a58439e-f9ae-45dc-b76a-0c19c2e35700"
      },
      "source": [
        "nombre = input(\"Ingrese su nombre: \")  #Se uso la funcion input() para ingresar datos al programa.g\n",
        "edad = input(str(\"Ingrese su edad: \"))\n",
        "frase_fav =input(\"Ingrese frase favorita: \")\n",
        "autor = input(\"Ingrese el autor de la frase: \")\n",
        "\n",
        "print(\"Nombre:\" + nombre + \" Edad:\" + edad + \" Frase favorita:\" + frase_fav  + \" Autor:\" + autor)\n",
        "#Se uso la concatenación de las variables."
      ],
      "execution_count": null,
      "outputs": [
        {
          "output_type": "stream",
          "text": [
            "Ingrese su nombre: g\n",
            "Ingrese su edad: g\n",
            "Ingrese frase favorita: g\n",
            "Ingrese el autor de la frase: \n",
            "Nombre:g Edad:g Frase favorita:g Autor:\n"
          ],
          "name": "stdout"
        }
      ]
    },
    {
      "cell_type": "code",
      "metadata": {
        "id": "jwY43q3gf2Mx"
      },
      "source": [
        ""
      ],
      "execution_count": null,
      "outputs": []
    },
    {
      "cell_type": "markdown",
      "metadata": {
        "id": "6OS8XvAykNjb"
      },
      "source": [
        "**Ejercicio 2**\n",
        "\n",
        "Crear un programa que le pida al usuario capturar dos números enteros y dos números flotantes. Después, realizará la suma, resta, multiplicación y división, de ambos pares de números. Como resultado se deberán de obtener 8 valores. Imprimir todos estos reultados.\n",
        "\n"
      ]
    },
    {
      "cell_type": "code",
      "metadata": {
        "colab": {
          "base_uri": "https://localhost:8080/"
        },
        "id": "u-5AvnUXk_fe",
        "outputId": "5354b432-4cd8-4ae2-f328-d8f895fc7bf2"
      },
      "source": [
        "#Se uso la funcion input() para ingresar los datos al programa y se usaron enteros y flotantes.\n",
        "numero_int1 = int(input(\"Ingrese un numero entero: \"))\n",
        "numero_int2 = int(input(\"Ingrese otro numero entero: \"))\n",
        "numero_float1 = float(input(\"Ingrese un numero flotante: \")) \n",
        "numero_float2 = float(input(\"Ingrese otro numero flotante: \")) \n",
        "\n",
        "#Se usaron operaciones las aritméticas requeridas.\n",
        "suma_int= numero_int1 + numero_int2\n",
        "suma_float = numero_float1 + numero_float2\n",
        "resta_int= numero_int1 - numero_int2\n",
        "resta_float = numero_float1 - numero_float2\n",
        "producto_int = numero_int1 * numero_int2\n",
        "producto_float = numero_float1 * numero_float2\n",
        "division_int = numero_int1 / numero_int2\n",
        "division_float = numero_float1 / numero_float2\n",
        "\n",
        "#Se imprimieron los resultados.\n",
        "print(\"\\nRESULTADOS \\n\")\n",
        "print(\"Suma de los enteros: \" , suma_int)\n",
        "print(\"Suma de los flotante: \" , suma_float)\n",
        "print(\"Resta de los enteros: \" , resta_int) \n",
        "print(\"Resta de los flotantes: \" , resta_float) \n",
        "print(\"Multiplicación de los enteros: \", producto_int) \n",
        "print(\"Multiplicación de los flotantes: \" , producto_float) \n",
        "print(\"División de los enteros: \" , division_int) \n",
        "print(\"División de los flotantes: \" , division_float)"
      ],
      "execution_count": null,
      "outputs": [
        {
          "output_type": "stream",
          "text": [
            "Ingrese un numero entero: 1\n",
            "Ingrese otro numero entero: 2\n",
            "Ingrese un numero flotante: 1.2\n",
            "Ingrese otro numero flotante: 1.3\n",
            "\n",
            "RESULTADOS \n",
            "\n",
            "Suma de los enteros:  3\n",
            "Suma de los flotante:  2.5\n",
            "Resta de los enteros:  -1\n",
            "Resta de los flotantes:  -0.10000000000000009\n",
            "Multiplicación de los enteros:  2\n",
            "Multiplicación de los flotantes:  1.56\n",
            "División de los enteros:  0.5\n",
            "División de los flotantes:  0.923076923076923\n"
          ],
          "name": "stdout"
        }
      ]
    },
    {
      "cell_type": "markdown",
      "metadata": {
        "id": "CG8dfK3ftTRL"
      },
      "source": [
        "**Ejercicio 3**\n",
        "\n",
        "Crear un programa que evalúe dos expresiones lógicas con `and`, dos con `or` y dos con `not`. Cada expresión deberá hacer uso de operadores de comparación. "
      ]
    },
    {
      "cell_type": "code",
      "metadata": {
        "colab": {
          "base_uri": "https://localhost:8080/"
        },
        "id": "h8S-9O73wg1y",
        "outputId": "88a50365-71ac-4b60-d2b4-05fe969b2ee7"
      },
      "source": [
        "#Se evaluaron las expresiones logicas con AND y se imprimió el resultado \n",
        "expresion_1 = 10 > 4 and 3 > 1\n",
        "print(expresion_1)\n",
        "expresion_2 =14 < 5 and 7 > 10\n",
        "print(expresion_2)\n",
        "\n",
        "#Se evaluaron las expresiones logicas con OR y se imprimió el resultado \n",
        "expresion_3 = 56 < 4 or 43 > 102\n",
        "print(expresion_3)\n",
        "expresion_4 = 17 > 2 or 12 > 6\n",
        "print(expresion_4)\n",
        "\n",
        "#Se evaluaron las expresiones logicas con NOT y se imprimió el resultado \n",
        "expresion_5 =  not 10 > 3\n",
        "print(expresion_5)\n",
        "expresion_6 =  not 2 > 54\n",
        "print(expresion_6)"
      ],
      "execution_count": null,
      "outputs": [
        {
          "output_type": "stream",
          "text": [
            "True\n",
            "False\n",
            "False\n",
            "True\n",
            "False\n",
            "True\n"
          ],
          "name": "stdout"
        }
      ]
    }
  ]
}