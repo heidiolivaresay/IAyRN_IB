{
  "nbformat": 4,
  "nbformat_minor": 0,
  "metadata": {
    "colab": {
      "name": "IA_Ejercicio2_HeidiOlivaresAyala_1671460",
      "provenance": [],
      "collapsed_sections": []
    },
    "kernelspec": {
      "name": "python3",
      "display_name": "Python 3"
    },
    "language_info": {
      "name": "python"
    }
  },
  "cells": [
    {
      "cell_type": "markdown",
      "metadata": {
        "id": "BH1RkosayGR_"
      },
      "source": [
        "**Activdad 3 - Ejercicios Introducción Python, 2a parte**\n",
        "\n",
        "Heidi Olivares Ayala\n",
        "\n",
        "**Matricula:**1671460\n",
        "\n",
        "**Hora clase:** N4 "
      ]
    },
    {
      "cell_type": "markdown",
      "metadata": {
        "id": "oa4hDDjkyN_M"
      },
      "source": [
        "**Ejercicio 1**\n",
        "\n",
        "1.1 Piensa en 7 comidas diferente que te gusten. Implementa un programa que pregunte por las 7 comidas, las almacene en una lista y que posteriermente imprima cada una de ellas utilizando uno de los ciclos comentados en clase. "
      ]
    },
    {
      "cell_type": "code",
      "metadata": {
        "colab": {
          "base_uri": "https://localhost:8080/"
        },
        "id": "NLGZWkKbysU5",
        "outputId": "a0e0d9fc-883b-40ef-b3bd-68e2c0e33fe0"
      },
      "source": [
        "#definimos una lista vacia\n",
        "lista=[]\n",
        "\n",
        "#preguntamos por las comidas favoritas\n",
        "print(\"Ingrese sus 7 comidas favoritas:\")\n",
        "\n",
        "#ciclo for\n",
        "for x  in range (7):\n",
        "    comida=(input(\"\\n -> \"))\n",
        "    lista.append(comida) #Agregamos comenado append() para agregar nuevos elementos a la lista\n",
        "\n",
        "#imprmir lista\n",
        "print(\"\\n\" , lista)"
      ],
      "execution_count": 82,
      "outputs": [
        {
          "output_type": "stream",
          "name": "stdout",
          "text": [
            "Ingrese sus 7 comidas favoritas:\n",
            "\n",
            " -> Mole\n",
            "\n",
            " -> Enchiladas de pollo\n",
            "\n",
            " -> Enchiladas suizas\n",
            "\n",
            " -> Crema de calabaza \n",
            "\n",
            " -> Sushi\n",
            "\n",
            " -> Sopa de arroz rojo\n",
            "\n",
            " -> Caldo de res\n",
            "\n",
            " ['Mole', 'Enchiladas de pollo', 'Enchiladas suizas', 'Crema de calabaza ', 'Sushi', 'Sopa de arroz rojo', 'Caldo de res']\n"
          ]
        }
      ]
    },
    {
      "cell_type": "markdown",
      "metadata": {
        "id": "0Mm9C7HW3iqQ"
      },
      "source": [
        "1.2 Modifica el ejercicio 1.1 para que imprima cada una de las comidas favoritas junto con una oracición inicial: \"Una de mis comidas favoritas es [comida1]\".  "
      ]
    },
    {
      "cell_type": "code",
      "metadata": {
        "colab": {
          "base_uri": "https://localhost:8080/"
        },
        "id": "oCmCobzM3gNF",
        "outputId": "8732128f-2e8a-41d1-d8a2-dda693f4e8ec"
      },
      "source": [
        "#definimos una lista vacia\n",
        "lista=[]\n",
        "\n",
        "#preguntamos por las comidas favoritas\n",
        "print(\"Ingrese sus 7 comidas favoritas: \")\n",
        "\n",
        "#ciclo for\n",
        "for x  in range (7):\n",
        "    comida=(input(\" \\n -> \"))\n",
        "    lista.append(comida) #usamos comando append() para agregar nuevos elementos a la lista\n",
        "    print(\"Una de mis comidas favoritas es: \", lista[x])\n"
      ],
      "execution_count": null,
      "outputs": [
        {
          "output_type": "stream",
          "name": "stdout",
          "text": [
            "Ingrese sus 7 comidas favoritas: \n",
            " \n",
            " -> Mole\n",
            "Una de mis comidas favoritas es:  Mole\n",
            " \n",
            " -> Enchiladas suizas\n",
            "Una de mis comidas favoritas es:  Enchiladas suizas\n",
            " \n",
            " -> Enchiladas de pollo \n",
            "Una de mis comidas favoritas es:  Enchiladas de pollo \n",
            " \n",
            " -> Crema de calabaza \n",
            "Una de mis comidas favoritas es:  Crema de calabaza \n",
            " \n",
            " -> Sushi\n",
            "Una de mis comidas favoritas es:  Sushi\n",
            " \n",
            " -> Sopa de arroz rojo\n",
            "Una de mis comidas favoritas es:  Sopa de arroz rojo\n",
            " \n",
            " -> Milanesa empanizada de pollo\n",
            "Una de mis comidas favoritas es:  Milanesa empanizada de pollo\n"
          ]
        }
      ]
    },
    {
      "cell_type": "markdown",
      "metadata": {
        "id": "RIr-4L0d8JYX"
      },
      "source": [
        "**Ejercicio 2**\n",
        "\n",
        "Crear un juego de piedra, papel o tijera de dos jugadores. El programa preguntará por la opción del jugador 1 y la opción del jugador 2 y dará como resultado quien ganó el juego. "
      ]
    },
    {
      "cell_type": "code",
      "metadata": {
        "colab": {
          "base_uri": "https://localhost:8080/"
        },
        "id": "1psTQ_UU8cnp",
        "outputId": "10005c01-2c3d-45d0-c175-a35558ed5733"
      },
      "source": [
        "print(\"Juego de piedra, papel o tijera\")\n",
        "print(\"\\n*Intrucciones del juego*\\m\")\n",
        "print(\"Elige una de las siguientes opciones \\n\")\n",
        "\n",
        "print(\" -> Piedra\")\n",
        "print(\" -> Papel\")\n",
        "print(\" -> Tijera\")\n",
        "\n",
        "#prguntamos por la opcion del jugador 1\n",
        "jugador1=str(input(\"\\nJugador 1, ¿qué elijes? :  \"))\n",
        "\n",
        "#prguntamos por la opcion del jugador 1\n",
        "jugador2=str(input(\"Jugador 2, ¿qué elijes? :  \"))\n",
        "\n",
        "print(\"\\nResultados ... \")\n",
        "\n",
        "#establecemos las condiciones del juego usando la sentencia if\n",
        "if jugador1 == 'Piedra' and jugador2 =='Piedra':\n",
        "    print(\"¡Es un empate!\")\n",
        "if jugador1 == 'Piedra' and jugador2 == 'Papel':\n",
        "    print(\"¡El jugador 2 ganó!\")\n",
        "if jugador1 == 'Piedra' and jugador2 == 'Tijera':\n",
        "    print(\"¡El jugador 1 ganó!\")\n",
        "\n",
        "if jugador1 == 'Papel' and jugador2 =='Piedra':\n",
        "    print(\"¡El jugador 1 ganó!\")\n",
        "if jugador1 == 'Papel' and jugador2 == 'Papel':\n",
        "    print(\"¡Es un empate!\")\n",
        "if jugador1 == 'Papel' and jugador2 == 'Tijera':\n",
        "    print(\"¡El jugador 2 ganó!\")\n",
        "\n",
        "if jugador1 == 'Tijera' and jugador2 == 'Piedra':\n",
        "    print(\"¡El jugador 2 ganó!\")\n",
        "if jugador1 == 'Tijera' and jugador2 == 'Papel':\n",
        "    print(\"¡El jugador 1 ganó!\")\n",
        "if jugador1 == 'Tijera' and jugador2 == 'Tijera':\n",
        "    print(\"¡Es un empate!\")\n",
        "  \n"
      ],
      "execution_count": 80,
      "outputs": [
        {
          "output_type": "stream",
          "name": "stdout",
          "text": [
            "Juego de piedra, papel o tijera\n",
            "\n",
            "*Intrucciones del juego*\\m\n",
            "Elige una de las siguientes opciones \n",
            "\n",
            " -> Piedra\n",
            " -> Papel\n",
            " -> Tijera\n",
            "\n",
            "Jugador 1, ¿qué elijes? :  Papel\n",
            "Jugador 2, ¿qué elijes? :  Tijera\n",
            "\n",
            "Resultados ... \n",
            "¡El jugador 2 ganó!\n"
          ]
        }
      ]
    },
    {
      "cell_type": "markdown",
      "metadata": {
        "id": "_A_aJUhz8bxk"
      },
      "source": [
        "**Ejercicio 3**\n",
        "\n",
        "Implementar un programa que imprima el siguiente patron:\n",
        "\n",
        "![image.png](data:image/png;base64,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)\n"
      ]
    },
    {
      "cell_type": "code",
      "metadata": {
        "colab": {
          "base_uri": "https://localhost:8080/"
        },
        "id": "vous8sMP846o",
        "outputId": "cee85201-ebe7-4bf0-e57b-775c363661ec"
      },
      "source": [
        "#funcion patron \n",
        "def patron(n):\n",
        "\n",
        "#inicio ciclo anidado for\n",
        "    for i in range(n, 0,-1): #iteramos filas\n",
        "        for j in range(1, i + 1):#iteramos columnas\n",
        "            print(j, end=\" \") #imprimir numero\n",
        "        print(\"\\r\") #nueva linea despues de cada fila\n",
        "\n",
        "#argumento de la funcion \n",
        "patron(6)  \n",
        "\n",
        "#funcion patron \n",
        "def patron(n):\n",
        "\n",
        "#inicio ciclo anidado for\n",
        "     for i in range(2, n):#iteramos filas\n",
        "         for j in range(1, i + 1):#iteramos columnas\n",
        "             print(j, end= \" \") #imprimir numero\n",
        "         print(\"\\r\") #nueva linea despues de cada fila\n",
        "\n",
        "#argumento de la funcion \n",
        "patron(7) \n",
        "\n",
        "\n",
        "\n"
      ],
      "execution_count": 81,
      "outputs": [
        {
          "output_type": "stream",
          "name": "stdout",
          "text": [
            "1 2 3 4 5 6 \r\n",
            "1 2 3 4 5 \r\n",
            "1 2 3 4 \r\n",
            "1 2 3 \r\n",
            "1 2 \r\n",
            "1 \r\n",
            "1 2 \r\n",
            "1 2 3 \r\n",
            "1 2 3 4 \r\n",
            "1 2 3 4 5 \r\n",
            "1 2 3 4 5 6 \r\n"
          ]
        }
      ]
    }
  ]
}