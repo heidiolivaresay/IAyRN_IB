{
  "nbformat": 4,
  "nbformat_minor": 0,
  "metadata": {
    "colab": {
      "name": "IA_ExMedioCurso_HeidiOlivaresAyala_1671460",
      "provenance": []
    },
    "kernelspec": {
      "name": "python3",
      "display_name": "Python 3"
    },
    "language_info": {
      "name": "python"
    }
  },
  "cells": [
    {
      "cell_type": "code",
      "metadata": {
        "id": "gwstH_XjAZe2"
      },
      "source": [
        "Examen de Medio Curso\n",
        "\n",
        "Heidi Olivares Ayala\n",
        "\n",
        "Matricula:1671460\n",
        "\n",
        "Hora clase: N4"
      ],
      "execution_count": null,
      "outputs": []
    },
    {
      "cell_type": "markdown",
      "metadata": {
        "id": "TSWtNwm6AgQf"
      },
      "source": [
        "**1.1** El usuario dará un número al azar y el código calculará la suma de todos los números desde el 1 hasta el número dado por el usuario.\n",
        "Ejemplo: el usuario dió el número 4, el código deberá de dar como resultado 10."
      ]
    },
    {
      "cell_type": "code",
      "metadata": {
        "colab": {
          "base_uri": "https://localhost:8080/"
        },
        "id": "qu2jkj7sBm33",
        "outputId": "7d7f947b-a480-4dcf-f8b6-067eb7277c14"
      },
      "source": [
        "numero = input(\"Ingrese un número al azar: \") #Se le pide al usuario un numero al azar\n",
        "i=1 # inicializar la variable i\n",
        "suma = 0\n",
        "while i <= int(numero): #inicio ciclo while \n",
        "  suma = suma + i\n",
        "  i = i + 1 #incremento de la variable i\n",
        "print(suma)"
      ],
      "execution_count": null,
      "outputs": [
        {
          "output_type": "stream",
          "name": "stdout",
          "text": [
            "Ingrese un número al azar: 4\n",
            "10\n"
          ]
        }
      ]
    },
    {
      "cell_type": "markdown",
      "metadata": {
        "id": "BKKjHLPiAzlr"
      },
      "source": [
        "**1.2** Dados el inicio y final de un rango de números, guardar ese rango de números en una lista. Después, imprimir los números que son pares en la lista por medio de uno de los ciclos que vimos en clase. \n",
        "Inicio = 6, final = 31"
      ]
    },
    {
      "cell_type": "code",
      "metadata": {
        "colab": {
          "base_uri": "https://localhost:8080/"
        },
        "id": "4xOpNs1GDI5f",
        "outputId": "4a51f297-4acc-4fd7-c180-843f98b7810a"
      },
      "source": [
        "rango_1 = int(input(\"Ingrese un rango minimo: \")) #Se le pide al usuario un rango minimo\n",
        "rango_2 = int(input(\"Ingrese un rango maximo: \")) #Se le pide al usuario un rango maximo\n",
        "\n",
        "#se inicia bucle for\n",
        "for x in lista:\n",
        "  if x%2 ==0: # iterar cada elemento de la lista y verificar si x%2==0\n",
        "    print(x) #una ves cumplida la condiciion, se imprimen los numeros pares\n",
        "\n",
        "\n",
        "\n"
      ],
      "execution_count": 19,
      "outputs": [
        {
          "output_type": "stream",
          "name": "stdout",
          "text": [
            "Ingrese un rango minimo: 6\n",
            "Ingrese un rango maximo: 31\n",
            "6\n",
            "8\n",
            "10\n",
            "12\n",
            "14\n",
            "16\n",
            "18\n",
            "20\n",
            "22\n",
            "24\n",
            "26\n",
            "28\n",
            "30\n"
          ]
        }
      ]
    }
  ]
}